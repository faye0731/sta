{
  "cells": [
    {
      "cell_type": "markdown",
      "id": "c30c6dca",
      "metadata": {
        "id": "c30c6dca"
      },
      "source": [
        "# Homework 6: Part I\n",
        "\n",
        "1. Go get data from kaggle.com and do a ***(Univariate) Bayesian Logistic Regression*** analysis\n",
        "\n",
        "2. Adjust the code below to specify that the outcomes have a Bernoulli distribution and use a ***probit*** or ***logit*** to correctly paramterize the predicted values of the observed outcomes\n",
        "\n",
        "```python\n",
        "import pymc as pm; import numpy as np\n",
        "n,p=100,10; X,y=np.zeros((n,p)),np.ones((n,1))\n",
        "# Replace this made up data with your data set from kaggle...\n",
        "with pm.Model() as MLR:\n",
        "\n",
        "# > Indented block\n",
        "\n",
        "\n",
        "    betas = pm.MvNormal('betas', mu=np.zeros((p,1)), cov=np.eye(p), shape=(p,1))\n",
        "    sigma = pm.TruncatedNormal('sigma', mu=1, sigma=1, lower=0) # half normal\n",
        "    y = pm.Normal('y', mu=pm.math.dot(X, betas), sigma=sigma, observed=y)\n",
        "\n",
        "with MLR:\n",
        "    idata = pm.sample()\n",
        "```    \n",
        "\n",
        "3. Choose ***prior*** that are sensible for your specification\n",
        "\n",
        "4. [Optional] Assess the performance of the MCMC and any issues or warnings in the [standard manner](https://www.pymc.io/projects/docs/en/stable/learn/core_notebooks/pymc_overview.html#pymc-overview)\n",
        "\n",
        "4. [Optional] Go get data from kaggle.com and do a ***Multivariate Bayesian Logistic Regression*** analysis\n"
      ]
    },
    {
      "cell_type": "code",
      "source": [
        "import pymc as pm; import numpy as np\n",
        "n,p=80,5; X,y=np.zeros((n,p)),np.ones((n,1))\n",
        "with pm.Model() as logistic_model:\n",
        "    betas = pm.MvNormal('betas', mu=np.zeros((p,1)), cov=np.eye(p), shape=(p,1))\n",
        "    linear_comb = pm.math.dot(X, betas)\n",
        "    p = pm.math.sigmoid(linear_comb)\n",
        "    y_obs = pm.Bernoulli('y_obs', p=p, observed=y)\n",
        "with logistic_model:\n",
        "    idata = pm.sample()\n"
      ],
      "metadata": {
        "colab": {
          "base_uri": "https://localhost:8080/",
          "height": 57
        },
        "id": "MbOe7wkuNlPf",
        "outputId": "f312da62-6727-436d-86be-1dbffe75e8f9"
      },
      "id": "MbOe7wkuNlPf",
      "execution_count": 3,
      "outputs": [
        {
          "output_type": "display_data",
          "data": {
            "text/plain": [
              "<IPython.core.display.HTML object>"
            ],
            "text/html": [
              "\n",
              "<style>\n",
              "    /* Turns off some styling */\n",
              "    progress {\n",
              "        /* gets rid of default border in Firefox and Opera. */\n",
              "        border: none;\n",
              "        /* Needs to be in here for Safari polyfill so background images work as expected. */\n",
              "        background-size: auto;\n",
              "    }\n",
              "    progress:not([value]), progress:not([value])::-webkit-progress-bar {\n",
              "        background: repeating-linear-gradient(45deg, #7e7e7e, #7e7e7e 10px, #5c5c5c 10px, #5c5c5c 20px);\n",
              "    }\n",
              "    .progress-bar-interrupted, .progress-bar-interrupted::-webkit-progress-bar {\n",
              "        background: #F44336;\n",
              "    }\n",
              "</style>\n"
            ]
          },
          "metadata": {}
        },
        {
          "output_type": "display_data",
          "data": {
            "text/plain": [
              "<IPython.core.display.HTML object>"
            ],
            "text/html": [
              "\n",
              "    <div>\n",
              "      <progress value='2000' class='' max='2000' style='width:300px; height:20px; vertical-align: middle;'></progress>\n",
              "      100.00% [2000/2000 00:07&lt;00:00 Sampling chain 0, 0 divergences]\n",
              "    </div>\n",
              "    "
            ]
          },
          "metadata": {}
        },
        {
          "output_type": "display_data",
          "data": {
            "text/plain": [
              "<IPython.core.display.HTML object>"
            ],
            "text/html": [
              "\n",
              "<style>\n",
              "    /* Turns off some styling */\n",
              "    progress {\n",
              "        /* gets rid of default border in Firefox and Opera. */\n",
              "        border: none;\n",
              "        /* Needs to be in here for Safari polyfill so background images work as expected. */\n",
              "        background-size: auto;\n",
              "    }\n",
              "    progress:not([value]), progress:not([value])::-webkit-progress-bar {\n",
              "        background: repeating-linear-gradient(45deg, #7e7e7e, #7e7e7e 10px, #5c5c5c 10px, #5c5c5c 20px);\n",
              "    }\n",
              "    .progress-bar-interrupted, .progress-bar-interrupted::-webkit-progress-bar {\n",
              "        background: #F44336;\n",
              "    }\n",
              "</style>\n"
            ]
          },
          "metadata": {}
        },
        {
          "output_type": "display_data",
          "data": {
            "text/plain": [
              "<IPython.core.display.HTML object>"
            ],
            "text/html": [
              "\n",
              "    <div>\n",
              "      <progress value='2000' class='' max='2000' style='width:300px; height:20px; vertical-align: middle;'></progress>\n",
              "      100.00% [2000/2000 00:05&lt;00:00 Sampling chain 1, 0 divergences]\n",
              "    </div>\n",
              "    "
            ]
          },
          "metadata": {}
        }
      ]
    },
    {
      "cell_type": "markdown",
      "id": "a03462c5",
      "metadata": {
        "id": "a03462c5"
      },
      "source": [
        "# Homework 6: Part II<br>Robust regression: [scale mixtures (of normals)](https://www.johndcook.com/t_normal_mixture.pdf)\n",
        "\n",
        "$$\\int \\frac{w\\lambda_i}{\\sqrt{2\\pi}}e^{-\\frac{1}{2}\\left(w^{-2}\\lambda_i^{-2}(y_i-\\mu)^2\\right)} {\\frac {\\frac{\\nu}{2}^{\\frac{\\nu}{2}}}{\\Gamma (\\frac{\\nu}{2})}}\\lambda_i^{\\nu-\\frac{1}{2}}e^{-\\frac{\\nu}{2}\\lambda_i^{-2}} d\\lambda_i = \\frac{\\Gamma\\left(\\frac{\\nu+1}{2}\\right)}{\\Gamma (\\frac{\\nu}{2})\\sqrt{\\pi \\nu w^2}}\\left(1 + \\frac{1}{\\nu}\\left(\\frac{y_i-\\mu}{w}\\right)^2 \\right)^{-\\frac{\\nu+1}{2}}$$\n",
        "\n",
        "$$\\begin{array}{rcl}\n",
        "y_i|\\lambda_i & \\sim & \\mathcal{N}(X\\beta, \\sigma^2 = w^2 \\lambda_i^2)\\\\\n",
        "\\lambda_i^{-2} & \\sim & \\text{Gamma}(\\alpha=\\nu/2, \\beta=\\nu/2)\\end{array} \\quad \\Longrightarrow \\quad y_i \\sim t_\\nu(\\mu, w^2)$$\n",
        "\n",
        "1. Return to your kaggle.com regression data set; or, find another data set; and use the above specification to perform a robust regression analysis in `PyMC`\n",
        "\n",
        "2. Use the posterior distributions of the $\\lambda_i$'s to identify \"outlier\" (and potentially \"influential\") data points\n",
        "\n",
        "3. [Optional] Assess the performance of the MCMC and any issues or warnings in the [standard manner](https://www.pymc.io/projects/docs/en/stable/learn/core_notebooks/pymc_overview.html#pymc-overview)\n",
        "4. [Optional] Perform ***Multiple Linear Regression*** diagnostics... residual plots, etc.\n",
        "\n",
        "\n"
      ]
    },
    {
      "cell_type": "code",
      "source": [
        "import pymc as pm\n",
        "import numpy as np\n",
        "import arviz as az\n",
        "\n",
        "np.random.seed(36)\n",
        "n_samples = 80\n",
        "X = np.random.normal(size=(n_samples, 1))\n",
        "true_beta = 2.5\n",
        "mu = X * true_beta\n",
        "w = 1\n",
        "nu = 3\n",
        "\n",
        "y = np.random.normal(mu.flatten(), scale=w)\n",
        "\n",
        "with pm.Model() as robust_model_with_lambda:\n",
        "    beta = pm.Normal('beta', mu=0, sigma=10)\n",
        "    nu = pm.Exponential('nu', 1/29) + 1\n",
        "    lambda_i = pm.Gamma('lambda', alpha=nu/2, beta=nu/2, shape=n_samples)\n",
        "    sigma_i = pm.Deterministic('sigma_i', 1 / (lambda_i))\n",
        "\n",
        "    likelihood = pm.Normal('y', mu=X[:,0]*beta, sigma=sigma_i, observed=y)\n",
        "\n",
        "    trace = pm.sample(1000, target_accept=0.9, return_inferencedata=True)\n",
        "\n",
        "lambda_posterior = trace.posterior['lambda'].values\n",
        "lambda_mean = np.mean(lambda_posterior, axis=(0, 1))\n",
        "outlier_threshold = np.quantile(lambda_mean, 0.05)\n",
        "outliers = np.where(lambda_mean < outlier_threshold)[0]\n",
        "print(f\"Potential outliers: {outliers}\")\n"
      ],
      "metadata": {
        "colab": {
          "base_uri": "https://localhost:8080/",
          "height": 74
        },
        "id": "8Y_hzvUVPOw9",
        "outputId": "7189d852-b005-4f18-8b22-42e921e22fd1"
      },
      "id": "8Y_hzvUVPOw9",
      "execution_count": 5,
      "outputs": [
        {
          "output_type": "display_data",
          "data": {
            "text/plain": [
              "<IPython.core.display.HTML object>"
            ],
            "text/html": [
              "\n",
              "<style>\n",
              "    /* Turns off some styling */\n",
              "    progress {\n",
              "        /* gets rid of default border in Firefox and Opera. */\n",
              "        border: none;\n",
              "        /* Needs to be in here for Safari polyfill so background images work as expected. */\n",
              "        background-size: auto;\n",
              "    }\n",
              "    progress:not([value]), progress:not([value])::-webkit-progress-bar {\n",
              "        background: repeating-linear-gradient(45deg, #7e7e7e, #7e7e7e 10px, #5c5c5c 10px, #5c5c5c 20px);\n",
              "    }\n",
              "    .progress-bar-interrupted, .progress-bar-interrupted::-webkit-progress-bar {\n",
              "        background: #F44336;\n",
              "    }\n",
              "</style>\n"
            ]
          },
          "metadata": {}
        },
        {
          "output_type": "display_data",
          "data": {
            "text/plain": [
              "<IPython.core.display.HTML object>"
            ],
            "text/html": [
              "\n",
              "    <div>\n",
              "      <progress value='2000' class='' max='2000' style='width:300px; height:20px; vertical-align: middle;'></progress>\n",
              "      100.00% [2000/2000 00:09&lt;00:00 Sampling chain 0, 0 divergences]\n",
              "    </div>\n",
              "    "
            ]
          },
          "metadata": {}
        },
        {
          "output_type": "display_data",
          "data": {
            "text/plain": [
              "<IPython.core.display.HTML object>"
            ],
            "text/html": [
              "\n",
              "<style>\n",
              "    /* Turns off some styling */\n",
              "    progress {\n",
              "        /* gets rid of default border in Firefox and Opera. */\n",
              "        border: none;\n",
              "        /* Needs to be in here for Safari polyfill so background images work as expected. */\n",
              "        background-size: auto;\n",
              "    }\n",
              "    progress:not([value]), progress:not([value])::-webkit-progress-bar {\n",
              "        background: repeating-linear-gradient(45deg, #7e7e7e, #7e7e7e 10px, #5c5c5c 10px, #5c5c5c 20px);\n",
              "    }\n",
              "    .progress-bar-interrupted, .progress-bar-interrupted::-webkit-progress-bar {\n",
              "        background: #F44336;\n",
              "    }\n",
              "</style>\n"
            ]
          },
          "metadata": {}
        },
        {
          "output_type": "display_data",
          "data": {
            "text/plain": [
              "<IPython.core.display.HTML object>"
            ],
            "text/html": [
              "\n",
              "    <div>\n",
              "      <progress value='2000' class='' max='2000' style='width:300px; height:20px; vertical-align: middle;'></progress>\n",
              "      100.00% [2000/2000 00:09&lt;00:00 Sampling chain 1, 0 divergences]\n",
              "    </div>\n",
              "    "
            ]
          },
          "metadata": {}
        },
        {
          "output_type": "stream",
          "name": "stdout",
          "text": [
            "Potential outliers: [28 36 60 75]\n"
          ]
        }
      ]
    }
  ],
  "metadata": {
    "celltoolbar": "Slideshow",
    "kernelspec": {
      "display_name": "Python 3 (ipykernel)",
      "language": "python",
      "name": "python3"
    },
    "language_info": {
      "codemirror_mode": {
        "name": "ipython",
        "version": 3
      },
      "file_extension": ".py",
      "mimetype": "text/x-python",
      "name": "python",
      "nbconvert_exporter": "python",
      "pygments_lexer": "ipython3",
      "version": "3.11.4"
    },
    "colab": {
      "provenance": []
    }
  },
  "nbformat": 4,
  "nbformat_minor": 5
}