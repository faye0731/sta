{
 "cells": [
  {
   "cell_type": "code",
   "execution_count": 11,
   "id": "7708d7bb",
   "metadata": {},
   "outputs": [
    {
     "name": "stdout",
     "output_type": "stream",
     "text": [
      "Bandit 1: Beta(4.0, 7.0)\n",
      "Bandit 2: Beta(8.0, 7.0)\n",
      "Bandit 3: Beta(61.0, 19.0)\n"
     ]
    }
   ],
   "source": [
    "import numpy as np\n",
    "from scipy import stats\n",
    "\n",
    "# Initialize the bandits with alpha and beta values for Beta(1,1) prior\n",
    "def initialize_bandits(num_bandits=3):\n",
    "    alphas = np.ones(num_bandits)  # Alpha values\n",
    "    betas = np.ones(num_bandits)   # Beta values\n",
    "    return alphas, betas\n",
    "\n",
    "# Update the alpha and beta values of the chosen bandit based on the outcome\n",
    "def update_posterior(chosen_bandit, success, alphas, betas):\n",
    "    if success:\n",
    "        alphas[chosen_bandit] += 1\n",
    "    else:\n",
    "        betas[chosen_bandit] += 1\n",
    "    return alphas, betas\n",
    "\n",
    "# Run the simulation for a specified number of rounds\n",
    "def run_simulation(num_rounds=100, true_success_rates=[0.3, 0.5, 0.7]):\n",
    "    alphas, betas = initialize_bandits(len(true_success_rates))\n",
    "    \n",
    "    for _ in range(num_rounds):\n",
    "        # Sample from the posterior of each bandit and pick the one with the highest sample\n",
    "        samples = [stats.beta(a, b).rvs() for a, b in zip(alphas, betas)]\n",
    "        chosen_bandit = np.argmax(samples)\n",
    "\n",
    "        # Simulate the outcome based on the true success rate of the chosen bandit\n",
    "        success = stats.binom(n=1, p=true_success_rates[chosen_bandit]).rvs(size=1) == 1\n",
    "        alphas, betas = update_posterior(chosen_bandit, success, alphas, betas)\n",
    "\n",
    "    return alphas, betas\n",
    "\n",
    "# Running the modified simulation\n",
    "alphas_modified, betas_modified = run_simulation()\n",
    "\n",
    "# Display the final beliefs for each bandit and the PDF value at 0.5\n",
    "for i, (a, b) in enumerate(zip(alphas_modified, betas_modified)):\n",
    "    bandit_beta = stats.beta(a, b)\n",
    "    print(f\"Bandit {i+1}: Beta({a}, {b})\")\n"
   ]
  },
  {
   "cell_type": "markdown",
   "id": "f25fce00",
   "metadata": {},
   "source": [
    "Bandits are initialized with uniform beliefs about success rates (Beta(1,1) distributions).Then, I set \"The 'Red' one\" to Bandit 1; \"The 'Blue' one\" to Bandit 2; and \"The 'Other' one\" to Bandit 3. In each round, a bandit is selected based on sampling from these Beta distributions, balancing between trying new options and choosing the best-known option. After choosing a bandit, its success or failure is simulated, and the corresponding Beta distribution is updated to reflect this new information. The simulation provides the final updated Beta distributions for each bandit, indicating our beliefs about their success rates after all trials. By analyzing the final posterior distributions, we can infer the Bandit 3 is most likely to be the best choice based on the accumulated data."
   ]
  }
 ],
 "metadata": {
  "kernelspec": {
   "display_name": "Python 3 (ipykernel)",
   "language": "python",
   "name": "python3"
  },
  "language_info": {
   "codemirror_mode": {
    "name": "ipython",
    "version": 3
   },
   "file_extension": ".py",
   "mimetype": "text/x-python",
   "name": "python",
   "nbconvert_exporter": "python",
   "pygments_lexer": "ipython3",
   "version": "3.11.6"
  }
 },
 "nbformat": 4,
 "nbformat_minor": 5
}
